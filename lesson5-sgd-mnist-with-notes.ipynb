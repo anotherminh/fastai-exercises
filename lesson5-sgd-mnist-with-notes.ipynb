{
 "cells": [
  {
   "cell_type": "code",
   "execution_count": 1,
   "metadata": {},
   "outputs": [],
   "source": [
    "%matplotlib inline\n",
    "from fastai.basics import *"
   ]
  },
  {
   "cell_type": "markdown",
   "metadata": {},
   "source": [
    "## MNIST SGD"
   ]
  },
  {
   "cell_type": "markdown",
   "metadata": {},
   "source": [
    "Get the 'pickled' MNIST dataset from http://deeplearning.net/data/mnist/mnist.pkl.gz. We're going to treat it as a standard flat dataset with fully connected layers, rather than using a CNN."
   ]
  },
  {
   "cell_type": "code",
   "execution_count": 2,
   "metadata": {},
   "outputs": [],
   "source": [
    "path = Config().data_path()/'mnist'"
   ]
  },
  {
   "cell_type": "code",
   "execution_count": 3,
   "metadata": {},
   "outputs": [
    {
     "data": {
      "text/plain": [
       "[PosixPath('/home/jupyter/.fastai/data/mnist/mnist.pkl.gz')]"
      ]
     },
     "execution_count": 3,
     "metadata": {},
     "output_type": "execute_result"
    }
   ],
   "source": [
    "path.ls()"
   ]
  },
  {
   "cell_type": "code",
   "execution_count": 4,
   "metadata": {},
   "outputs": [],
   "source": [
    "with gzip.open(path/'mnist.pkl.gz', 'rb') as f:\n",
    "    ((x_train, y_train), (x_valid, y_valid), _) = pickle.load(f, encoding='latin-1')"
   ]
  },
  {
   "cell_type": "code",
   "execution_count": 5,
   "metadata": {},
   "outputs": [],
   "source": [
    "x_train = tensor(x_train)\n",
    "y_train = tensor(y_train)\n",
    "x_valid = tensor(x_valid)\n",
    "y_valid = tensor(y_valid)"
   ]
  },
  {
   "cell_type": "code",
   "execution_count": 6,
   "metadata": {},
   "outputs": [
    {
     "name": "stdout",
     "output_type": "stream",
     "text": [
      "<class 'torch.Tensor'>\n"
     ]
    },
    {
     "data": {
      "text/plain": [
       "torch.Size([50000, 784])"
      ]
     },
     "execution_count": 6,
     "metadata": {},
     "output_type": "execute_result"
    },
    {
     "data": {
      "image/png": "[encoded data removed]",
      "text/plain": [
       "<Figure size 432x288 with 1 Axes>"
      ]
     },
     "metadata": {
      "needs_background": "light"
     },
     "output_type": "display_data"
    }
   ],
   "source": [
    "print(type(x_train))\n",
    "plt.imshow(x_train[0].reshape((28,28)), cmap=\"gray\")\n",
    "x_train.shape # 500000 images,784 pixels"
   ]
  },
  {
   "cell_type": "code",
   "execution_count": 7,
   "metadata": {},
   "outputs": [
    {
     "data": {
      "text/plain": [
       "tensor([5, 0, 4,  ..., 8, 4, 8])"
      ]
     },
     "execution_count": 7,
     "metadata": {},
     "output_type": "execute_result"
    }
   ],
   "source": [
    "y_train # The correct answers we're trying to predict"
   ]
  },
  {
   "cell_type": "markdown",
   "metadata": {},
   "source": [
    "In lesson2-sgd we did these things ourselves:\n",
    "\n",
    "```python\n",
    "x = torch.ones(n,2) \n",
    "def mse(y_hat, y): return ((y_hat-y)**2).mean()\n",
    "y_hat = x@a\n",
    "```\n",
    "\n",
    "Now instead we'll use PyTorch's functions to do it for us, and also to handle mini-batches (which we didn't do last time, since our dataset was so small)."
   ]
  },
  {
   "cell_type": "code",
   "execution_count": 8,
   "metadata": {},
   "outputs": [],
   "source": [
    "bs=64\n",
    "train_ds = TensorDataset(tensor(x_train), tensor(y_train))\n",
    "valid_ds = TensorDataset(x_valid, y_valid)\n",
    "data = DataBunch.create(train_ds, valid_ds, bs=bs)"
   ]
  },
  {
   "cell_type": "code",
   "execution_count": 9,
   "metadata": {},
   "outputs": [
    {
     "name": "stdout",
     "output_type": "stream",
     "text": [
      "tensor([1, 2, 3])\n",
      "tensor([1, 1, 4])\n",
      "tensor([[-0.4497,  0.9317, -0.5594,  ..., -0.0760, -0.8012,  0.8395],\n",
      "        [-0.7382, -0.8581,  0.9371,  ...,  0.2997, -0.7259, -0.0388],\n",
      "        [ 0.3755, -0.5688,  0.4285,  ..., -0.3911,  0.2019, -0.5202],\n",
      "        ...,\n",
      "        [ 0.7584, -0.4505, -0.4448,  ...,  0.8495, -0.4001,  0.9217],\n",
      "        [-0.1263,  0.9979, -0.8490,  ..., -0.7973,  0.7061,  0.5160],\n",
      "        [ 0.6670, -0.4481,  0.1498,  ...,  0.7310, -0.0881,  0.2066]])\n",
      "tensor([[-0.4497, -0.7382,  0.3755,  ...,  0.7584, -0.1263,  0.6670],\n",
      "        [ 0.9317, -0.8581, -0.5688,  ..., -0.4505,  0.9979, -0.4481],\n",
      "        [-0.5594,  0.9371,  0.4285,  ..., -0.4448, -0.8490,  0.1498],\n",
      "        ...,\n",
      "        [-0.0760,  0.2997, -0.3911,  ...,  0.8495, -0.7973,  0.7310],\n",
      "        [-0.8012, -0.7259,  0.2019,  ..., -0.4001,  0.7061, -0.0881],\n",
      "        [ 0.8395, -0.0388, -0.5202,  ...,  0.9217,  0.5160,  0.2066]])\n"
     ]
    }
   ],
   "source": [
    "# Examples of using the iterable type\n",
    "i = iter(tensor([[1, 2, 3], [1, 1, 4]]))\n",
    "print(next(i))\n",
    "print(next(i))\n",
    "\n",
    "# More examples of tensors\n",
    "t = torch.Tensor(10, 784)\n",
    "t.uniform_(-1, 1)\n",
    "print(t)\n",
    "print(t.t())"
   ]
  },
  {
   "cell_type": "code",
   "execution_count": 10,
   "metadata": {},
   "outputs": [
    {
     "data": {
      "text/plain": [
       "(torch.Size([64, 784]), torch.Size([64]))"
      ]
     },
     "execution_count": 10,
     "metadata": {},
     "output_type": "execute_result"
    }
   ],
   "source": [
    "# x is the first batch, it's got 64 items, each containing 784 elements\n",
    "# y is the target, and of course it's also got 64 elements (telling us the labels for each item in x)\n",
    "\n",
    "x,y = next(iter(data.train_dl))\n",
    "x.shape,y.shape"
   ]
  },
  {
   "cell_type": "code",
   "execution_count": 11,
   "metadata": {},
   "outputs": [],
   "source": [
    "class Mnist_Logistic(nn.Module):\n",
    "    def __init__(self):\n",
    "        super().__init__()\n",
    "        self.lin = nn.Linear(784, 10, bias=True)\n",
    " \n",
    "    def forward(self, xb): return self.lin(xb)"
   ]
  },
  {
   "cell_type": "code",
   "execution_count": 12,
   "metadata": {},
   "outputs": [],
   "source": [
    "logistic_model = Mnist_Logistic().cuda()\n",
    "# if we don't have cuda:\n",
    "# model = Mnist_Logistic() \n",
    "# But, the kernel seems to crash later so idk"
   ]
  },
  {
   "cell_type": "code",
   "execution_count": 13,
   "metadata": {},
   "outputs": [
    {
     "data": {
      "text/plain": [
       "Mnist_Logistic(\n",
       "  (lin): Linear(in_features=784, out_features=10, bias=True)\n",
       ")"
      ]
     },
     "execution_count": 13,
     "metadata": {},
     "output_type": "execute_result"
    }
   ],
   "source": [
    "logistic_model"
   ]
  },
  {
   "cell_type": "code",
   "execution_count": 14,
   "metadata": {},
   "outputs": [
    {
     "data": {
      "text/plain": [
       "Linear(in_features=784, out_features=10, bias=True)"
      ]
     },
     "execution_count": 14,
     "metadata": {},
     "output_type": "execute_result"
    }
   ],
   "source": [
    "logistic_model.lin"
   ]
  },
  {
   "cell_type": "code",
   "execution_count": 15,
   "metadata": {},
   "outputs": [
    {
     "data": {
      "text/plain": [
       "torch.Size([10, 784])"
      ]
     },
     "execution_count": 15,
     "metadata": {},
     "output_type": "execute_result"
    }
   ],
   "source": [
    "# TEST: Why is the weight of this shape?\n",
    "# We need something that will take 784 inputs and output a probability of 10 numbers\n",
    "logistic_model.lin.weight.shape"
   ]
  },
  {
   "cell_type": "code",
   "execution_count": 16,
   "metadata": {},
   "outputs": [
    {
     "data": {
      "text/plain": [
       "torch.Size([10])"
      ]
     },
     "execution_count": 16,
     "metadata": {},
     "output_type": "execute_result"
    }
   ],
   "source": [
    "# TEST: Why is this vector of length 10?\n",
    "# We need to add the bias to 10 different activations resulting from applying \n",
    "# the linear transformation to the input using the weights\n",
    "logistic_model.lin.bias.shape"
   ]
  },
  {
   "cell_type": "code",
   "execution_count": 17,
   "metadata": {
    "scrolled": true
   },
   "outputs": [
    {
     "data": {
      "text/plain": [
       "tensor([[ 0.0426,  0.2684,  0.0586, -0.1682,  0.3938,  0.0585,  0.0297, -0.2372,\n",
       "         -0.2128,  0.0354],\n",
       "        [-0.1195, -0.0669, -0.0880, -0.1576, -0.2504, -0.0411,  0.0844,  0.0359,\n",
       "          0.0947, -0.0898],\n",
       "        [ 0.1524,  0.1446,  0.0053, -0.2225,  0.1908,  0.0441,  0.1264, -0.1372,\n",
       "         -0.2776,  0.0534],\n",
       "        [-0.0139,  0.2076, -0.0378, -0.1691, -0.3415, -0.1077,  0.2600, -0.0520,\n",
       "         -0.0298, -0.2094],\n",
       "        [ 0.1056, -0.1086,  0.2380, -0.0965, -0.0626, -0.0736,  0.2558,  0.0353,\n",
       "         -0.0832, -0.0257],\n",
       "        [ 0.1628,  0.0752,  0.0253, -0.1726, -0.1324, -0.0911,  0.1971,  0.0056,\n",
       "          0.0274, -0.3386],\n",
       "        [ 0.2356,  0.0718, -0.1102, -0.1161, -0.2528,  0.0510,  0.3541, -0.2202,\n",
       "          0.0623, -0.3440],\n",
       "        [ 0.3403, -0.2569, -0.0305, -0.1009, -0.3237,  0.0040,  0.1718, -0.1857,\n",
       "         -0.0386, -0.4002],\n",
       "        [ 0.1082, -0.0443,  0.2007, -0.1574,  0.0611,  0.1871,  0.2243, -0.0516,\n",
       "         -0.1991, -0.0571],\n",
       "        [ 0.1981,  0.0320,  0.0756, -0.0961, -0.3572, -0.0891,  0.2483,  0.1253,\n",
       "         -0.0194, -0.1451],\n",
       "        [ 0.4196, -0.1305,  0.1408,  0.0033, -0.1993,  0.0693, -0.0397, -0.1798,\n",
       "         -0.0443, -0.3071],\n",
       "        [ 0.3984, -0.0665,  0.3319, -0.1091, -0.2931, -0.1389,  0.4852, -0.3315,\n",
       "         -0.0763, -0.2523],\n",
       "        [ 0.6033, -0.4471,  0.2075, -0.0251, -0.1310, -0.1694,  0.3413, -0.2120,\n",
       "         -0.0267, -0.5021],\n",
       "        [ 0.1850,  0.4278,  0.1315, -0.0162,  0.1076,  0.0070,  0.1238, -0.1449,\n",
       "         -0.2633, -0.1535],\n",
       "        [ 0.4165, -0.0921,  0.2456, -0.0147,  0.0027,  0.0062,  0.3034, -0.2972,\n",
       "          0.0168, -0.1156],\n",
       "        [ 0.1471,  0.1530, -0.0523, -0.0373, -0.1088,  0.0186,  0.1975, -0.3453,\n",
       "          0.1520, -0.1958],\n",
       "        [-0.1596,  0.0448,  0.1310,  0.0921, -0.1067,  0.1515,  0.6285, -0.0390,\n",
       "          0.1426, -0.2797],\n",
       "        [ 0.0323,  0.1275,  0.0199, -0.1692, -0.2845, -0.0341,  0.3437,  0.0077,\n",
       "         -0.0273, -0.1528],\n",
       "        [ 0.2347,  0.0014,  0.1201, -0.0657, -0.1603,  0.0289,  0.3433, -0.0220,\n",
       "         -0.0104, -0.2377],\n",
       "        [ 0.1131,  0.1330,  0.0649, -0.3101, -0.0624, -0.1335, -0.0786, -0.1706,\n",
       "         -0.1649,  0.0682],\n",
       "        [ 0.2648, -0.1439,  0.0052, -0.3679, -0.1738, -0.1708,  0.2420, -0.1582,\n",
       "         -0.1908, -0.2090],\n",
       "        [ 0.1549,  0.1292,  0.0443, -0.0716,  0.0144, -0.1128,  0.2115,  0.0597,\n",
       "         -0.2625, -0.0276],\n",
       "        [ 0.2903,  0.0465, -0.0725, -0.1487, -0.2189,  0.1272,  0.0968, -0.1947,\n",
       "          0.0167, -0.2962],\n",
       "        [ 0.1455,  0.0464, -0.0921, -0.1612, -0.0630,  0.1134,  0.3990, -0.0775,\n",
       "         -0.0861,  0.0452],\n",
       "        [-0.0118, -0.0745,  0.2558, -0.1125,  0.1053,  0.0665,  0.2601,  0.1492,\n",
       "         -0.0353, -0.1706],\n",
       "        [ 0.1172,  0.0315, -0.1971, -0.2771, -0.1353,  0.0108,  0.1960, -0.0590,\n",
       "         -0.1111, -0.1749],\n",
       "        [-0.0118,  0.0425,  0.1826,  0.0606, -0.2677,  0.3952,  0.5137, -0.1336,\n",
       "         -0.0573, -0.2863],\n",
       "        [ 0.3767,  0.0017,  0.3166,  0.0188, -0.1384, -0.1131,  0.1777, -0.0170,\n",
       "          0.0034, -0.1165],\n",
       "        [ 0.1225,  0.1781,  0.0950, -0.1417,  0.0807, -0.0093,  0.1591, -0.0597,\n",
       "         -0.1954, -0.1425],\n",
       "        [ 0.3772, -0.2993,  0.3215, -0.1473, -0.2782, -0.1776,  0.1390, -0.1344,\n",
       "          0.0602, -0.4134],\n",
       "        [ 0.3723,  0.0267,  0.0305, -0.4074, -0.2804, -0.1751,  0.1626, -0.1948,\n",
       "          0.1150, -0.3594],\n",
       "        [ 0.2538,  0.1430,  0.3706, -0.2498, -0.1014, -0.1914,  0.1792, -0.2917,\n",
       "         -0.4224, -0.2475],\n",
       "        [ 0.2327, -0.0318,  0.0437, -0.1547, -0.1774, -0.0546,  0.1727,  0.0438,\n",
       "          0.0083, -0.2555],\n",
       "        [ 0.1352, -0.1770, -0.0022,  0.0270, -0.2075,  0.1132,  0.1129, -0.1291,\n",
       "         -0.0649, -0.4228],\n",
       "        [ 0.1259,  0.0480,  0.3104, -0.0849, -0.2200, -0.2621,  0.1802, -0.2108,\n",
       "         -0.1198, -0.0969],\n",
       "        [ 0.4200,  0.0816, -0.2727,  0.0637, -0.2021,  0.0688,  0.1903, -0.0328,\n",
       "          0.1744, -0.3312],\n",
       "        [ 0.2036, -0.1023, -0.1833, -0.4594, -0.1588, -0.0288,  0.1103, -0.0762,\n",
       "         -0.1689, -0.3177],\n",
       "        [ 0.1305, -0.0443,  0.0868, -0.2028, -0.0373, -0.0346,  0.2371, -0.2161,\n",
       "          0.0528, -0.3657],\n",
       "        [-0.0622,  0.1130,  0.1455, -0.1475, -0.0892,  0.0897,  0.2599, -0.3122,\n",
       "         -0.1473, -0.0502],\n",
       "        [ 0.2414, -0.2036,  0.0238, -0.3158, -0.3425, -0.0491,  0.2850, -0.2086,\n",
       "          0.0731, -0.1301],\n",
       "        [ 0.2796,  0.0507,  0.2566, -0.1348, -0.1994,  0.1201,  0.0554, -0.2665,\n",
       "         -0.0108, -0.6147],\n",
       "        [ 0.4740, -0.2268,  0.0094, -0.0768, -0.3226, -0.0835,  0.0170, -0.1073,\n",
       "         -0.1361, -0.4810],\n",
       "        [ 0.2020, -0.0469,  0.0265, -0.2738, -0.0798,  0.0931,  0.1112, -0.2498,\n",
       "         -0.1078, -0.4677],\n",
       "        [ 0.0459,  0.2146, -0.1191, -0.1610, -0.0745, -0.1414,  0.1688, -0.1625,\n",
       "         -0.1603, -0.1694],\n",
       "        [ 0.0770, -0.0142, -0.0546, -0.0668, -0.4107,  0.0533,  0.2119,  0.0880,\n",
       "         -0.1046, -0.0803],\n",
       "        [ 0.2441,  0.1159,  0.0226, -0.1907, -0.2492, -0.1011,  0.2703, -0.2007,\n",
       "          0.0795, -0.1808],\n",
       "        [ 0.0859,  0.1427,  0.1788, -0.0751, -0.0507, -0.1701,  0.0453, -0.1411,\n",
       "         -0.0714,  0.0061],\n",
       "        [ 0.4278, -0.0290,  0.1646, -0.0810, -0.1444, -0.0818, -0.0203, -0.1473,\n",
       "         -0.3093, -0.4358],\n",
       "        [ 0.2306, -0.0494, -0.1162, -0.1710, -0.2508,  0.1603,  0.3918,  0.0171,\n",
       "          0.0728, -0.2345],\n",
       "        [ 0.0040, -0.3607,  0.2132,  0.0461, -0.0039,  0.1327,  0.2356, -0.0189,\n",
       "          0.1183, -0.3354],\n",
       "        [ 0.1526, -0.2645,  0.0247, -0.1536, -0.1789, -0.1610,  0.2774, -0.0375,\n",
       "         -0.0376, -0.1013],\n",
       "        [ 0.1235,  0.1419,  0.0924, -0.2847, -0.0525, -0.0737, -0.0818, -0.1959,\n",
       "         -0.1340, -0.1092],\n",
       "        [ 0.0783,  0.0537, -0.1300, -0.2530, -0.1013,  0.2542,  0.1057, -0.1352,\n",
       "         -0.1491, -0.3284],\n",
       "        [ 0.1470, -0.1268,  0.1420,  0.0835, -0.0771, -0.0317,  0.0425, -0.0354,\n",
       "          0.0566, -0.2820],\n",
       "        [ 0.4155, -0.1465,  0.2427, -0.1507, -0.1911, -0.0823,  0.0673, -0.3732,\n",
       "         -0.0138, -0.2399],\n",
       "        [ 0.2913, -0.0384, -0.0045, -0.0274, -0.0555,  0.1235,  0.1312,  0.0122,\n",
       "         -0.1221, -0.1161],\n",
       "        [ 0.3434, -0.0013, -0.2164,  0.0795, -0.1957,  0.0939,  0.3630, -0.0274,\n",
       "         -0.0284, -0.4555],\n",
       "        [ 0.2567,  0.0590, -0.1596, -0.0578, -0.1780,  0.0715,  0.4237, -0.2809,\n",
       "         -0.2149, -0.3731],\n",
       "        [ 0.1377,  0.0812,  0.2363, -0.2550,  0.1456, -0.0745,  0.1115, -0.1528,\n",
       "         -0.3529, -0.0597],\n",
       "        [ 0.2174, -0.1607,  0.0890, -0.2494, -0.0882, -0.1932,  0.3507, -0.1073,\n",
       "          0.0773, -0.2437],\n",
       "        [ 0.1158,  0.1539,  0.2861, -0.2128, -0.1904, -0.1032,  0.1808, -0.2212,\n",
       "         -0.1364, -0.0680],\n",
       "        [ 0.1647, -0.0133,  0.1182, -0.0340, -0.1102, -0.1271,  0.2030, -0.0958,\n",
       "         -0.1120,  0.0811],\n",
       "        [-0.0693, -0.0848,  0.0070,  0.1879, -0.2485,  0.1173,  0.4233, -0.1252,\n",
       "         -0.0970, -0.1000],\n",
       "        [ 0.2863,  0.2952,  0.1705, -0.2020,  0.0800, -0.1165,  0.0830, -0.2048,\n",
       "         -0.1677,  0.0910]], device='cuda:0', grad_fn=<AddmmBackward>)"
      ]
     },
     "execution_count": 17,
     "metadata": {},
     "output_type": "execute_result"
    }
   ],
   "source": [
    "y_hat = logistic_model(x); y_hat # apply linear transformation to x (using weights)"
   ]
  },
  {
   "cell_type": "code",
   "execution_count": 18,
   "metadata": {},
   "outputs": [
    {
     "data": {
      "text/plain": [
       "torch.Size([64, 10])"
      ]
     },
     "execution_count": 18,
     "metadata": {},
     "output_type": "execute_result"
    }
   ],
   "source": [
    "y_hat.shape"
   ]
  },
  {
   "cell_type": "code",
   "execution_count": 20,
   "metadata": {},
   "outputs": [
    {
     "data": {
      "text/plain": [
       "[torch.Size([10, 784]), torch.Size([10])]"
      ]
     },
     "execution_count": 20,
     "metadata": {},
     "output_type": "execute_result"
    }
   ],
   "source": [
    "# Where did these parameters come from? From the linear model weight and bias!!\n",
    "# See In[86] and In[87] -- they have the same shape\n",
    "# Interesting, so Parameters are persisted/registered with some global object/store\n",
    "[p.shape for p in logistic_model.parameters()]"
   ]
  },
  {
   "cell_type": "code",
   "execution_count": 21,
   "metadata": {},
   "outputs": [],
   "source": [
    "lr=2e-2"
   ]
  },
  {
   "cell_type": "code",
   "execution_count": 22,
   "metadata": {},
   "outputs": [],
   "source": [
    "loss_func = nn.CrossEntropyLoss()"
   ]
  },
  {
   "cell_type": "code",
   "execution_count": 23,
   "metadata": {},
   "outputs": [],
   "source": [
    "def update(model,x,y,lr):\n",
    "    wd = 1e-5\n",
    "    y_hat = model(x)\n",
    "    # weight decay\n",
    "    w2 = 0.\n",
    "    for p in model.parameters(): w2 += (p**2).sum()\n",
    "    # add to regular loss\n",
    "    loss = loss_func(y_hat, y) + w2*wd\n",
    "    # Calling loss.backward() computes dloss/dx \n",
    "    # for every parameter x which has requires_grad=True\n",
    "    # These are accumulated into x.grad for every parameter x. In pseudo-code:\n",
    "    # x.grad += dloss/dx\n",
    "    loss.backward()\n",
    "    with torch.no_grad():\n",
    "        for p in model.parameters():\n",
    "            p.sub_(lr * p.grad)\n",
    "            p.grad.zero_()\n",
    "    return loss.item()"
   ]
  },
  {
   "cell_type": "code",
   "execution_count": 24,
   "metadata": {},
   "outputs": [],
   "source": [
    "# Calculate the losses by BATCHES of 64 items each\n",
    "# If we accidentally run this too many times we'll overfit\n",
    "# and get a weird graph\n",
    "losses = [update(logistic_model, x,y,lr) for x,y in data.train_dl]"
   ]
  },
  {
   "cell_type": "code",
   "execution_count": 25,
   "metadata": {},
   "outputs": [
    {
     "data": {
      "image/png": "[encoded data removed]",
      "text/plain": [
       "<Figure size 432x288 with 1 Axes>"
      ]
     },
     "metadata": {
      "needs_background": "light"
     },
     "output_type": "display_data"
    }
   ],
   "source": [
    "plt.plot(losses);"
   ]
  },
  {
   "cell_type": "code",
   "execution_count": 26,
   "metadata": {},
   "outputs": [
    {
     "data": {
      "image/png": "[encoded data removed]",
      "text/plain": [
       "<Figure size 432x288 with 1 Axes>"
      ]
     },
     "metadata": {
      "needs_background": "light"
     },
     "output_type": "display_data"
    }
   ],
   "source": [
    "from torch.nn.parameter import Parameter\n",
    "\n",
    "# Exercise: Implemenet your own MyLinear function\n",
    "# Woohoo, it worked out OK\n",
    "class MyLinear(nn.Module):\n",
    "    def __init__(self, in_features, out_features, bias=True):\n",
    "        super().__init__()\n",
    "        self.in_features = in_features\n",
    "        self.out_features = out_features \n",
    "        # Weights is just a vector that's initialized to ([out_features, in_features])\n",
    "        self.weight = Parameter(torch.Tensor(out_features, in_features))\n",
    "        \n",
    "        if bias:\n",
    "            # CONFUSED: Why add an additional bias number that is equal to the out_features?\n",
    "            self.bias = Parameter(torch.Tensor(out_features))\n",
    "        else:\n",
    "            # TODO: Look at Module and what it does... it seems to keep track of parameters\n",
    "            self.register_parameter('bias', None)\n",
    "        self.reset_parameters()\n",
    "    \n",
    "    # This function exists just to fill out our weights and bias\n",
    "    # with some sensible random numbers\n",
    "    # In the real version they do some complicated shit\n",
    "    # https://pytorch.org/docs/stable/_modules/torch/nn/init.html#linear\n",
    "    # But for our version let's just set it to something dumb\n",
    "    # shouldn't matter too much bc it gets updated after every run\n",
    "    def reset_parameters(self):\n",
    "        with torch.no_grad():\n",
    "            self.weight.uniform_(-1, 1)\n",
    "            if self.bias is not None:\n",
    "                self.bias.uniform_(-1, 1)\n",
    "    \n",
    "    # The bias is ADDITIVE\n",
    "    def forward(self, input):\n",
    "        output = input.matmul(self.weight.t()) # multiply the input by the weights\n",
    "        if self.bias is not None:\n",
    "            output += self.bias\n",
    "            \n",
    "        return output\n",
    "    \n",
    "class My_Mnist_Logistic(nn.Module):\n",
    "    def __init__(self, bias=True):\n",
    "        super().__init__()\n",
    "        self.lin = MyLinear(784, 10, bias)\n",
    "\n",
    "    def forward(self, xb): return self.lin(xb)\n",
    "\n",
    "# Bias doesn't seem to make a big difference here\n",
    "for with_bias in [True, False]:\n",
    "    model = My_Mnist_Logistic(bias=with_bias).cuda()\n",
    "    losses = [update(model,x,y,lr) for x,y in data.train_dl]\n",
    "    plt.plot(losses, label = str(with_bias))\n",
    "    plt.legend(loc='upper left')"
   ]
  },
  {
   "cell_type": "code",
   "execution_count": 27,
   "metadata": {},
   "outputs": [],
   "source": [
    "# So we did the logistic regression, now time to build a neural net\n",
    "# We have 2 linear layers here\n",
    "# the first takes 784 inputs and outputs 50 activations\n",
    "# the second takes 50 inputs and outputs 10 activations\n",
    "# We will also use relu between those layers (interestingly, not at the end!)\n",
    "class Mnist_NN(nn.Module):\n",
    "    def __init__(self):\n",
    "        super().__init__()\n",
    "        self.lin1 = nn.Linear(784, 50, bias=True)\n",
    "        self.lin2 = nn.Linear(50, 10, bias=True)\n",
    "\n",
    "    def forward(self, xb):\n",
    "        x = self.lin1(xb)\n",
    "        x = F.relu(x)\n",
    "        return self.lin2(x)"
   ]
  },
  {
   "cell_type": "code",
   "execution_count": 31,
   "metadata": {},
   "outputs": [],
   "source": [
    "nn_model = Mnist_NN().cuda()"
   ]
  },
  {
   "cell_type": "code",
   "execution_count": 32,
   "metadata": {},
   "outputs": [],
   "source": [
    "losses = [update(nn_model, x,y,lr) for x,y in data.train_dl]"
   ]
  },
  {
   "cell_type": "code",
   "execution_count": 33,
   "metadata": {},
   "outputs": [
    {
     "data": {
      "image/png": "[encoded data removed]",
      "text/plain": [
       "<Figure size 432x288 with 1 Axes>"
      ]
     },
     "metadata": {
      "needs_background": "light"
     },
     "output_type": "display_data"
    }
   ],
   "source": [
    "plt.plot(losses);"
   ]
  },
  {
   "cell_type": "code",
   "execution_count": 34,
   "metadata": {},
   "outputs": [],
   "source": [
    "model = Mnist_NN().cuda()"
   ]
  },
  {
   "cell_type": "code",
   "execution_count": 35,
   "metadata": {},
   "outputs": [],
   "source": [
    "def update(x,y,lr):\n",
    "    opt = optim.Adam(model.parameters(), lr)\n",
    "    y_hat = model(x)\n",
    "    loss = loss_func(y_hat, y)\n",
    "    loss.backward()\n",
    "    opt.step()\n",
    "    opt.zero_grad()\n",
    "    return loss.item()"
   ]
  },
  {
   "cell_type": "code",
   "execution_count": 36,
   "metadata": {},
   "outputs": [],
   "source": [
    "losses = [update(x,y,1e-3) for x,y in data.train_dl]"
   ]
  },
  {
   "cell_type": "code",
   "execution_count": 37,
   "metadata": {},
   "outputs": [
    {
     "data": {
      "image/png": "[encoded data removed]",
      "text/plain": [
       "<Figure size 432x288 with 1 Axes>"
      ]
     },
     "metadata": {
      "needs_background": "light"
     },
     "output_type": "display_data"
    }
   ],
   "source": [
    "plt.plot(losses);"
   ]
  },
  {
   "cell_type": "code",
   "execution_count": 43,
   "metadata": {},
   "outputs": [],
   "source": [
    "# Interesting to note is that we are NOT callng cuda() here\n",
    "learn = Learner(data, Mnist_NN(), loss_func=loss_func, metrics=accuracy)"
   ]
  },
  {
   "cell_type": "code",
   "execution_count": 41,
   "metadata": {},
   "outputs": [],
   "source": [
    "# %debug"
   ]
  },
  {
   "cell_type": "code",
   "execution_count": 42,
   "metadata": {},
   "outputs": [
    {
     "data": {
      "text/html": [],
      "text/plain": [
       "<IPython.core.display.HTML object>"
      ]
     },
     "metadata": {},
     "output_type": "display_data"
    },
    {
     "name": "stdout",
     "output_type": "stream",
     "text": [
      "LR Finder is complete, type {learner_name}.recorder.plot() to see the graph.\n"
     ]
    },
    {
     "data": {
      "image/png": "[encoded data removed]",
      "text/plain": [
       "<Figure size 432x288 with 1 Axes>"
      ]
     },
     "metadata": {
      "needs_background": "light"
     },
     "output_type": "display_data"
    }
   ],
   "source": [
    "learn.lr_find()\n",
    "learn.recorder.plot()"
   ]
  },
  {
   "cell_type": "code",
   "execution_count": 44,
   "metadata": {},
   "outputs": [
    {
     "data": {
      "text/html": [
       "<table border=\"1\" class=\"dataframe\">\n",
       "  <thead>\n",
       "    <tr style=\"text-align: left;\">\n",
       "      <th>epoch</th>\n",
       "      <th>train_loss</th>\n",
       "      <th>valid_loss</th>\n",
       "      <th>accuracy</th>\n",
       "      <th>time</th>\n",
       "    </tr>\n",
       "  </thead>\n",
       "  <tbody>\n",
       "    <tr>\n",
       "      <td>0</td>\n",
       "      <td>0.134164</td>\n",
       "      <td>0.124682</td>\n",
       "      <td>0.964300</td>\n",
       "      <td>00:04</td>\n",
       "    </tr>\n",
       "  </tbody>\n",
       "</table>"
      ],
      "text/plain": [
       "<IPython.core.display.HTML object>"
      ]
     },
     "metadata": {},
     "output_type": "display_data"
    }
   ],
   "source": [
    "learn.fit_one_cycle(1, 1e-2)"
   ]
  },
  {
   "cell_type": "code",
   "execution_count": 47,
   "metadata": {},
   "outputs": [
    {
     "data": {
      "image/png": "[encoded data removed]",
      "text/plain": [
       "<Figure size 864x288 with 2 Axes>"
      ]
     },
     "metadata": {
      "needs_background": "light"
     },
     "output_type": "display_data"
    }
   ],
   "source": [
    "# There is a trade-off between learning rat and momentum\n",
    "# When we're already taking very big big steps we don't need a lot of momentum\n",
    "# BUt when we are taking tiny steps it's good to go a little faster depending on\n",
    "# past steps (if it's all been in the same direction, well, go faster!)\n",
    "learn.recorder.plot_lr(show_moms=True)"
   ]
  },
  {
   "cell_type": "code",
   "execution_count": 46,
   "metadata": {},
   "outputs": [
    {
     "data": {
      "image/png": "[encoded data removed]",
      "text/plain": [
       "<Figure size 432x288 with 1 Axes>"
      ]
     },
     "metadata": {
      "needs_background": "light"
     },
     "output_type": "display_data"
    }
   ],
   "source": [
    "learn.recorder.plot_losses()"
   ]
  },
  {
   "cell_type": "markdown",
   "metadata": {},
   "source": [
    "## fin"
   ]
  }
 ],
 "metadata": {
  "kernelspec": {
   "display_name": "Python 3",
   "language": "python",
   "name": "python3"
  },
  "language_info": {
   "codemirror_mode": {
    "name": "ipython",
    "version": 3
   },
   "file_extension": ".py",
   "mimetype": "text/x-python",
   "name": "python",
   "nbconvert_exporter": "python",
   "pygments_lexer": "ipython3",
   "version": "3.7.4"
  }
 },
 "nbformat": 4,
 "nbformat_minor": 1
}
